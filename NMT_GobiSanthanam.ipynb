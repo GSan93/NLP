{
  "nbformat": 4,
  "nbformat_minor": 0,
  "metadata": {
    "colab": {
      "name": "Final_project.ipynb",
      "provenance": [],
      "toc_visible": true,
      "machine_shape": "hm"
    },
    "kernelspec": {
      "name": "python3",
      "display_name": "Python 3"
    },
    "language_info": {
      "codemirror_mode": {
        "name": "ipython",
        "version": 3
      },
      "file_extension": ".py",
      "mimetype": "text/x-python",
      "name": "python",
      "nbconvert_exporter": "python",
      "pygments_lexer": "ipython3",
      "version": "3.6.8"
    },
    "accelerator": "GPU"
  },
  "cells": [
    {
      "cell_type": "code",
      "metadata": {
        "_cell_guid": "79c7e3d0-c299-4dcb-8224-4455121ee9b0",
        "_uuid": "d629ff2d2480ee46fbb7e2d37f6b5fab8052498a",
        "colab_type": "code",
        "id": "z6hXdw7oAPeO",
        "colab": {}
      },
      "source": [
        "import pandas as pd\n",
        "import numpy as np\n",
        "import keras\n",
        "import sklearn\n",
        "from keras import optimizers\n",
        "import nltk\n",
        "import string as st\n",
        "import matplotlib.pyplot as plt\n",
        "from keras.preprocessing.text import Tokenizer\n",
        "from keras.preprocessing.sequence import pad_sequences\n",
        "from keras.utils import to_categorical\n",
        "from keras.models import Sequential\n",
        "from keras.layers import LSTM,GRU,Dense,Embedding,RepeatVector,TimeDistributed,Dropout,Bidirectional\n",
        "from nltk.translate.bleu_score import corpus_bleu\n",
        "from keras.callbacks import ModelCheckpoint\n",
        "from keras.models import load_model\n",
        "import warnings\n",
        "warnings.filterwarnings('ignore')"
      ],
      "execution_count": 0,
      "outputs": []
    },
    {
      "cell_type": "code",
      "metadata": {
        "colab_type": "code",
        "id": "iVwAzUG1APeU",
        "colab": {}
      },
      "source": [
        "# Data will be in txt format.So, convert data in to dataframe using pandas \n",
        "data = pd.read_csv('deu.txt', delimiter='\\t', names=['English', 'German'])\n",
        "data_copy=data"
      ],
      "execution_count": 0,
      "outputs": []
    },
    {
      "cell_type": "code",
      "metadata": {
        "colab_type": "code",
        "id": "THuyKyQEAPef",
        "colab": {}
      },
      "source": [
        "reduced_data_set=data_copy[:160000]"
      ],
      "execution_count": 0,
      "outputs": []
    },
    {
      "cell_type": "code",
      "metadata": {
        "colab_type": "code",
        "id": "sPjKAdAVAPei",
        "colab": {}
      },
      "source": [
        "# Reduced data size\n",
        "reduced_data_set=reduced_data_set.reset_index(drop=True)"
      ],
      "execution_count": 0,
      "outputs": []
    },
    {
      "cell_type": "markdown",
      "metadata": {
        "colab_type": "text",
        "id": "1IbQcoJXAPeq"
      },
      "source": [
        "**Data preprocessing**"
      ]
    },
    {
      "cell_type": "code",
      "metadata": {
        "colab_type": "code",
        "id": "tp1c-twMAPes",
        "colab": {}
      },
      "source": [
        "en_max_len=0\n",
        "deu_max_len=0\n",
        "# lang_max_len=0\n",
        "# Remove punctuations in all the records. \n",
        "#Also, find the record with the maximum word length in both the languages.\n",
        "#This is done to create a fized encoding length for both the languages.\n",
        "for index, row in reduced_data_set.iterrows():\n",
        "    row['English']=row['English'].translate(str.maketrans('', '', st.punctuation)).lower()\n",
        "    if len(row['English'].split())>en_max_len:\n",
        "        en_max_len=len(row['English'].split())\n",
        "    row['German']=row['German'].translate(str.maketrans('', '', st.punctuation)).lower()\n",
        "    if len(row['German'].split())>deu_max_len:\n",
        "        deu_max_len=len(row['German'].split())  \n",
        "    # if deu_max_len > en_max_len:\n",
        "    #     lang_max_len=deu_max_len\n",
        "    # else:\n",
        "    #     lang_max_len=en_max_len"
      ],
      "execution_count": 0,
      "outputs": []
    },
    {
      "cell_type": "code",
      "metadata": {
        "colab_type": "code",
        "id": "zauy4-NFAPez",
        "outputId": "a4400f81-d797-4cf3-d7da-5b07d3a8adee",
        "colab": {
          "base_uri": "https://localhost:8080/",
          "height": 52
        }
      },
      "source": [
        "#Map the words to integers using keras based tokenizer\n",
        "en_tokenizer=Tokenizer()\n",
        "deu_tokenizer=Tokenizer()\n",
        "\n",
        "en_tokenizer.fit_on_texts(reduced_data_set['English'].to_numpy())\n",
        "en_vocabulary_size = len(en_tokenizer.word_index) + 1\n",
        "\n",
        "deu_tokenizer.fit_on_texts(reduced_data_set['German'].to_numpy())\n",
        "deu_vocabulary_size = len(deu_tokenizer.word_index) + 1\n",
        "\n",
        "print('English Vocabulary Size:', en_vocabulary_size)\n",
        "print('Deutch Vocabulary Size:',deu_vocabulary_size)"
      ],
      "execution_count": 168,
      "outputs": [
        {
          "output_type": "stream",
          "text": [
            "English Vocabulary Size: 12820\n",
            "Deutch Vocabulary Size: 25698\n"
          ],
          "name": "stdout"
        }
      ]
    },
    {
      "cell_type": "markdown",
      "metadata": {
        "colab_type": "text",
        "id": "E81Eeg7CAPe3"
      },
      "source": [
        "**Split data in to training data and test data**"
      ]
    },
    {
      "cell_type": "code",
      "metadata": {
        "colab_type": "code",
        "id": "xi40YKtUAPe4",
        "colab": {}
      },
      "source": [
        "#Split the data in to ~80% for training set and ~20% for testing set\n",
        "data_split = np.random.rand(len(reduced_data_set)) <= 0.9\n",
        "train_data = reduced_data_set[data_split]\n",
        "test_data = reduced_data_set[~data_split]"
      ],
      "execution_count": 0,
      "outputs": []
    },
    {
      "cell_type": "code",
      "metadata": {
        "id": "G1Jx0hYhgGpO",
        "colab_type": "code",
        "colab": {}
      },
      "source": [
        "# train_data = reduced_data_set[:100000]\n",
        "# test_data = reduced_data_set[100000:120000]"
      ],
      "execution_count": 0,
      "outputs": []
    },
    {
      "cell_type": "code",
      "metadata": {
        "colab_type": "code",
        "id": "tTQEeqGWAPe8",
        "outputId": "3d7a668d-daaf-4c38-dc42-5edfb56503b8",
        "colab": {
          "base_uri": "https://localhost:8080/",
          "height": 52
        }
      },
      "source": [
        "#Shape of the training set and test set\n",
        "print(train_data.shape)\n",
        "print(test_data.shape)"
      ],
      "execution_count": 171,
      "outputs": [
        {
          "output_type": "stream",
          "text": [
            "(144046, 2)\n",
            "(15954, 2)\n"
          ],
          "name": "stdout"
        }
      ]
    },
    {
      "cell_type": "markdown",
      "metadata": {
        "colab_type": "text",
        "id": "q-vRA-6gAPe_"
      },
      "source": [
        "**Convert data in to numpy array**"
      ]
    },
    {
      "cell_type": "code",
      "metadata": {
        "colab_type": "code",
        "id": "ftxI7XkcAPfA",
        "colab": {}
      },
      "source": [
        "#Convert dataframe in to numpy array\n",
        "train_data_np=train_data.to_numpy()\n",
        "test_data_np=test_data.to_numpy()"
      ],
      "execution_count": 0,
      "outputs": []
    },
    {
      "cell_type": "markdown",
      "metadata": {
        "colab_type": "text",
        "id": "hjvtFZuMAPfD"
      },
      "source": [
        "**Encode and split the data in to training and test data**"
      ]
    },
    {
      "cell_type": "code",
      "metadata": {
        "colab_type": "code",
        "id": "m-KKAHpdAPfE",
        "colab": {}
      },
      "source": [
        "# Convert text in to encoded numbers. Also, padding is done with zeroes to maintain equal length for both languagge data.\n",
        "def encode_data(language_tokenizer, length, all_data):\n",
        "    encoded_data = language_tokenizer.texts_to_sequences(all_data)\n",
        "    padded_data = pad_sequences(encoded_data, maxlen=length, padding='post')\n",
        "    return padded_data\n",
        "\n",
        "trainX = encode_data(deu_tokenizer, deu_max_len, train_data_np[:, 1])\n",
        "trainY = encode_data(en_tokenizer, en_max_len, train_data_np[:, 0])\n",
        "testX = encode_data(deu_tokenizer, deu_max_len, test_data_np[:, 1])\n",
        "testY = encode_data(en_tokenizer, en_max_len, test_data_np[:, 0])"
      ],
      "execution_count": 0,
      "outputs": []
    },
    {
      "cell_type": "code",
      "metadata": {
        "colab_type": "code",
        "id": "mTNIsbZ-APfM",
        "colab": {}
      },
      "source": [
        "#Convert mapped words in to normal words\n",
        "def convert_integers_to_words(word_index, tokenizer):\n",
        "    for word, index in tokenizer.word_index.items():\n",
        "        if index == word_index:\n",
        "            return word\n",
        "    return None"
      ],
      "execution_count": 0,
      "outputs": []
    },
    {
      "cell_type": "markdown",
      "metadata": {
        "colab_type": "text",
        "id": "dy29ZTLTAPfQ"
      },
      "source": [
        "**Decode the predictions after training of model is finished**"
      ]
    },
    {
      "cell_type": "code",
      "metadata": {
        "colab_type": "code",
        "id": "3XsWeyIQAPfR",
        "colab": {}
      },
      "source": [
        "# Decode the predictions in to words\n",
        "def decode_data(model_prediction):\n",
        "    prediction_text=list()\n",
        "    for sentence in prediction:\n",
        "        converted_sentence = list()\n",
        "        for word_index in range(len(sentence)):\n",
        "            word = convert_integers_to_words(sentence[word_index], en_tokenizer)\n",
        "            if word_index > 0:\n",
        "                if (word == convert_integers_to_words(sentence[word_index-1], en_tokenizer)) or (word == None):\n",
        "                    converted_sentence.append('')\n",
        "                else:\n",
        "                    converted_sentence.append(word)\n",
        "\n",
        "            else:\n",
        "                if(word == None):\n",
        "                    converted_sentence.append('')\n",
        "                else:\n",
        "                    converted_sentence.append(word)            \n",
        "\n",
        "        prediction_text.append(' '.join(converted_sentence))\n",
        "        \n",
        "    return prediction_text"
      ],
      "execution_count": 0,
      "outputs": []
    },
    {
      "cell_type": "code",
      "metadata": {
        "colab_type": "code",
        "id": "ip2jhnpaAPfU",
        "colab": {}
      },
      "source": [
        "#Build a sequence model using keras\n",
        "def build_model(lang1_vocab, lang2_vocab, lang1_max_len, lang2_max_len, units):\n",
        "    model = Sequential()\n",
        "    model.add(Embedding(lang1_vocab, units, input_length=lang1_max_len,input_shape=(lang1_max_len,), mask_zero=True))\n",
        "    model.add(LSTM(units))\n",
        "    model.add(RepeatVector(lang2_max_len))\n",
        "    model.add((LSTM(units, return_sequences=True)))\n",
        "    model.add(Dense(lang2_vocab, activation='softmax'))\n",
        "    return model"
      ],
      "execution_count": 0,
      "outputs": []
    },
    {
      "cell_type": "code",
      "metadata": {
        "colab_type": "code",
        "id": "B9j_FSDhAPfY",
        "colab": {}
      },
      "source": [
        "model = build_model(deu_vocabulary_size, en_vocabulary_size, deu_max_len, en_max_len, 512)\n",
        "rms_optimizer = optimizers.RMSprop(lr=0.001)\n",
        "model.compile(optimizer=rms_optimizer, loss='sparse_categorical_crossentropy',metrics=['accuracy'])"
      ],
      "execution_count": 0,
      "outputs": []
    },
    {
      "cell_type": "code",
      "metadata": {
        "id": "ywp9AUMRr8Pa",
        "colab_type": "code",
        "outputId": "65b5321b-ad8b-4518-9586-eb5b4c6c0546",
        "colab": {
          "base_uri": "https://localhost:8080/",
          "height": 336
        }
      },
      "source": [
        "model.summary()"
      ],
      "execution_count": 178,
      "outputs": [
        {
          "output_type": "stream",
          "text": [
            "Model: \"sequential_6\"\n",
            "_________________________________________________________________\n",
            "Layer (type)                 Output Shape              Param #   \n",
            "=================================================================\n",
            "embedding_6 (Embedding)      (None, 19, 512)           13157376  \n",
            "_________________________________________________________________\n",
            "lstm_11 (LSTM)               (None, 512)               2099200   \n",
            "_________________________________________________________________\n",
            "repeat_vector_6 (RepeatVecto (None, 11, 512)           0         \n",
            "_________________________________________________________________\n",
            "lstm_12 (LSTM)               (None, 11, 512)           2099200   \n",
            "_________________________________________________________________\n",
            "dense_8 (Dense)              (None, 11, 12820)         6576660   \n",
            "=================================================================\n",
            "Total params: 23,932,436\n",
            "Trainable params: 23,932,436\n",
            "Non-trainable params: 0\n",
            "_________________________________________________________________\n"
          ],
          "name": "stdout"
        }
      ]
    },
    {
      "cell_type": "code",
      "metadata": {
        "id": "6X6bms13oL7o",
        "colab_type": "code",
        "colab": {}
      },
      "source": [
        "filename = 'model.h5'\n",
        "checkpoint = ModelCheckpoint(filename, monitor='val_loss', verbose=1, save_best_only=True, mode='min')"
      ],
      "execution_count": 0,
      "outputs": []
    },
    {
      "cell_type": "code",
      "metadata": {
        "colab_type": "code",
        "id": "SeuupNM_APff",
        "outputId": "cb343d02-6c66-4442-c7c4-3b3a46dc1be4",
        "colab": {
          "base_uri": "https://localhost:8080/",
          "height": 1000
        }
      },
      "source": [
        "history=model.fit(trainX, trainY.reshape(trainY.shape[0], trainY.shape[1], 1),epochs=20, batch_size=512, validation_split = 0.1, callbacks=[checkpoint], verbose=1)"
      ],
      "execution_count": 180,
      "outputs": [
        {
          "output_type": "stream",
          "text": [
            "Train on 129641 samples, validate on 14405 samples\n",
            "Epoch 1/20\n",
            "129641/129641 [==============================] - 57s 437us/step - loss: 3.1059 - acc: 0.5575 - val_loss: 4.2875 - val_acc: 0.3674\n",
            "\n",
            "Epoch 00001: val_loss improved from inf to 4.28753, saving model to model.h5\n",
            "Epoch 2/20\n",
            "129641/129641 [==============================] - 49s 381us/step - loss: 2.6030 - acc: 0.5959 - val_loss: 4.1089 - val_acc: 0.4002\n",
            "\n",
            "Epoch 00002: val_loss improved from 4.28753 to 4.10890, saving model to model.h5\n",
            "Epoch 3/20\n",
            "129641/129641 [==============================] - 49s 381us/step - loss: 2.2656 - acc: 0.6351 - val_loss: 3.8988 - val_acc: 0.4253\n",
            "\n",
            "Epoch 00003: val_loss improved from 4.10890 to 3.89882, saving model to model.h5\n",
            "Epoch 4/20\n",
            "129641/129641 [==============================] - 49s 379us/step - loss: 1.9675 - acc: 0.6693 - val_loss: 3.4299 - val_acc: 0.4606\n",
            "\n",
            "Epoch 00004: val_loss improved from 3.89882 to 3.42994, saving model to model.h5\n",
            "Epoch 5/20\n",
            "129641/129641 [==============================] - 49s 379us/step - loss: 1.7115 - acc: 0.6950 - val_loss: 3.2370 - val_acc: 0.4777\n",
            "\n",
            "Epoch 00005: val_loss improved from 3.42994 to 3.23701, saving model to model.h5\n",
            "Epoch 6/20\n",
            "129641/129641 [==============================] - 49s 379us/step - loss: 1.5084 - acc: 0.7165 - val_loss: 3.1145 - val_acc: 0.4912\n",
            "\n",
            "Epoch 00006: val_loss improved from 3.23701 to 3.11451, saving model to model.h5\n",
            "Epoch 7/20\n",
            "129641/129641 [==============================] - 49s 379us/step - loss: 1.3456 - acc: 0.7358 - val_loss: 3.1055 - val_acc: 0.4976\n",
            "\n",
            "Epoch 00007: val_loss improved from 3.11451 to 3.10553, saving model to model.h5\n",
            "Epoch 8/20\n",
            "129641/129641 [==============================] - 49s 379us/step - loss: 1.2143 - acc: 0.7526 - val_loss: 2.9504 - val_acc: 0.5069\n",
            "\n",
            "Epoch 00008: val_loss improved from 3.10553 to 2.95036, saving model to model.h5\n",
            "Epoch 9/20\n",
            "129641/129641 [==============================] - 49s 379us/step - loss: 1.1031 - acc: 0.7682 - val_loss: 3.1240 - val_acc: 0.5025\n",
            "\n",
            "Epoch 00009: val_loss did not improve from 2.95036\n",
            "Epoch 10/20\n",
            "129641/129641 [==============================] - 49s 379us/step - loss: 1.0076 - acc: 0.7830 - val_loss: 2.8597 - val_acc: 0.5194\n",
            "\n",
            "Epoch 00010: val_loss improved from 2.95036 to 2.85967, saving model to model.h5\n",
            "Epoch 11/20\n",
            "129641/129641 [==============================] - 49s 378us/step - loss: 0.9227 - acc: 0.7965 - val_loss: 2.8793 - val_acc: 0.5232\n",
            "\n",
            "Epoch 00011: val_loss did not improve from 2.85967\n",
            "Epoch 12/20\n",
            "129641/129641 [==============================] - 49s 377us/step - loss: 0.8485 - acc: 0.8099 - val_loss: 2.8117 - val_acc: 0.5278\n",
            "\n",
            "Epoch 00012: val_loss improved from 2.85967 to 2.81172, saving model to model.h5\n",
            "Epoch 13/20\n",
            "129641/129641 [==============================] - 49s 378us/step - loss: 0.7803 - acc: 0.8224 - val_loss: 3.0075 - val_acc: 0.5210\n",
            "\n",
            "Epoch 00013: val_loss did not improve from 2.81172\n",
            "Epoch 14/20\n",
            "129641/129641 [==============================] - 49s 377us/step - loss: 0.7184 - acc: 0.8344 - val_loss: 2.9425 - val_acc: 0.5278\n",
            "\n",
            "Epoch 00014: val_loss did not improve from 2.81172\n",
            "Epoch 15/20\n",
            "129641/129641 [==============================] - 49s 379us/step - loss: 0.6624 - acc: 0.8452 - val_loss: 3.0269 - val_acc: 0.5273\n",
            "\n",
            "Epoch 00015: val_loss did not improve from 2.81172\n",
            "Epoch 16/20\n",
            "129641/129641 [==============================] - 49s 378us/step - loss: 0.6105 - acc: 0.8561 - val_loss: 3.0974 - val_acc: 0.5260\n",
            "\n",
            "Epoch 00016: val_loss did not improve from 2.81172\n",
            "Epoch 17/20\n",
            "129641/129641 [==============================] - 49s 377us/step - loss: 0.5624 - acc: 0.8664 - val_loss: 3.0538 - val_acc: 0.5304\n",
            "\n",
            "Epoch 00017: val_loss did not improve from 2.81172\n",
            "Epoch 18/20\n",
            "129641/129641 [==============================] - 49s 378us/step - loss: 0.5185 - acc: 0.8760 - val_loss: 3.0712 - val_acc: 0.5313\n",
            "\n",
            "Epoch 00018: val_loss did not improve from 2.81172\n",
            "Epoch 19/20\n",
            "129641/129641 [==============================] - 49s 377us/step - loss: 0.4791 - acc: 0.8848 - val_loss: 3.1550 - val_acc: 0.5307\n",
            "\n",
            "Epoch 00019: val_loss did not improve from 2.81172\n",
            "Epoch 20/20\n",
            "129641/129641 [==============================] - 49s 379us/step - loss: 0.4421 - acc: 0.8931 - val_loss: 3.1889 - val_acc: 0.5308\n",
            "\n",
            "Epoch 00020: val_loss did not improve from 2.81172\n"
          ],
          "name": "stdout"
        }
      ]
    },
    {
      "cell_type": "code",
      "metadata": {
        "colab_type": "code",
        "id": "bsownY6uAPfk",
        "colab": {}
      },
      "source": [
        "#Get predictions for text data \n",
        "model=load_model('model.h5')\n",
        "prediction = model.predict_classes(testX.reshape((testX.shape[0],testX.shape[1])))"
      ],
      "execution_count": 0,
      "outputs": []
    },
    {
      "cell_type": "code",
      "metadata": {
        "id": "v51DNL44v-B0",
        "colab_type": "code",
        "colab": {
          "base_uri": "https://localhost:8080/",
          "height": 264
        },
        "outputId": "d0765b43-6f4e-4f66-c701-c5871b2a72d1"
      },
      "source": [
        "plt.plot(history.history['loss'])\n",
        "plt.plot(history.history['val_loss'])\n",
        "plt.legend(['train','validation'])\n",
        "plt.show()"
      ],
      "execution_count": 182,
      "outputs": [
        {
          "output_type": "display_data",
          "data": {
            "image/png": "[encoded data removed]",
            "text/plain": [
              "<Figure size 432x288 with 1 Axes>"
            ]
          },
          "metadata": {
            "tags": []
          }
        }
      ]
    },
    {
      "cell_type": "code",
      "metadata": {
        "colab_type": "code",
        "id": "eFd7CjXTAPfq",
        "colab": {}
      },
      "source": [
        "#Decode the predictions\n",
        "prediction_text = decode_data(prediction)\n",
        "#Create a new dataframe for expected and predicted data\n",
        "pred_df = pd.DataFrame({'German':test_data['German'],'Expected' : test_data['English'], 'predicted' : prediction_text})"
      ],
      "execution_count": 0,
      "outputs": []
    },
    {
      "cell_type": "code",
      "metadata": {
        "colab_type": "code",
        "id": "N88Ptx8MAPfu",
        "colab": {
          "base_uri": "https://localhost:8080/",
          "height": 197
        },
        "outputId": "64b7dd91-d7dc-4bbf-e23a-9f3579d21089"
      },
      "source": [
        "#Display the expected and predicted data\n",
        "pred_df.iloc[7:12]"
      ],
      "execution_count": 198,
      "outputs": [
        {
          "output_type": "execute_result",
          "data": {
            "text/html": [
              "<div>\n",
              "<style scoped>\n",
              "    .dataframe tbody tr th:only-of-type {\n",
              "        vertical-align: middle;\n",
              "    }\n",
              "\n",
              "    .dataframe tbody tr th {\n",
              "        vertical-align: top;\n",
              "    }\n",
              "\n",
              "    .dataframe thead th {\n",
              "        text-align: right;\n",
              "    }\n",
              "</style>\n",
              "<table border=\"1\" class=\"dataframe\">\n",
              "  <thead>\n",
              "    <tr style=\"text-align: right;\">\n",
              "      <th></th>\n",
              "      <th>German</th>\n",
              "      <th>Expected</th>\n",
              "      <th>predicted</th>\n",
              "    </tr>\n",
              "  </thead>\n",
              "  <tbody>\n",
              "    <tr>\n",
              "      <th>71</th>\n",
              "      <td>seien sie nett</td>\n",
              "      <td>be nice</td>\n",
              "      <td>be nice</td>\n",
              "    </tr>\n",
              "    <tr>\n",
              "      <th>85</th>\n",
              "      <td>schwirr ab</td>\n",
              "      <td>beat it</td>\n",
              "      <td>get away</td>\n",
              "    </tr>\n",
              "    <tr>\n",
              "      <th>114</th>\n",
              "      <td>mach ’ne fliege</td>\n",
              "      <td>go away</td>\n",
              "      <td>get away</td>\n",
              "    </tr>\n",
              "    <tr>\n",
              "      <th>117</th>\n",
              "      <td>scher dich weg</td>\n",
              "      <td>go away</td>\n",
              "      <td>get away</td>\n",
              "    </tr>\n",
              "    <tr>\n",
              "      <th>120</th>\n",
              "      <td>verpiss dich</td>\n",
              "      <td>go away</td>\n",
              "      <td>get lost</td>\n",
              "    </tr>\n",
              "  </tbody>\n",
              "</table>\n",
              "</div>"
            ],
            "text/plain": [
              "              German Expected          predicted\n",
              "71    seien sie nett  be nice   be nice         \n",
              "85        schwirr ab  beat it  get away         \n",
              "114  mach ’ne fliege  go away  get away         \n",
              "117   scher dich weg  go away  get away         \n",
              "120     verpiss dich  go away  get lost         "
            ]
          },
          "metadata": {
            "tags": []
          },
          "execution_count": 198
        }
      ]
    },
    {
      "cell_type": "code",
      "metadata": {
        "id": "UxicELdLHeBu",
        "colab_type": "code",
        "colab": {
          "base_uri": "https://localhost:8080/",
          "height": 197
        },
        "outputId": "9e135b6e-b277-4007-ecf4-ccd6ce415676"
      },
      "source": [
        "pred_df.iloc[9000:9005]"
      ],
      "execution_count": 197,
      "outputs": [
        {
          "output_type": "execute_result",
          "data": {
            "text/html": [
              "<div>\n",
              "<style scoped>\n",
              "    .dataframe tbody tr th:only-of-type {\n",
              "        vertical-align: middle;\n",
              "    }\n",
              "\n",
              "    .dataframe tbody tr th {\n",
              "        vertical-align: top;\n",
              "    }\n",
              "\n",
              "    .dataframe thead th {\n",
              "        text-align: right;\n",
              "    }\n",
              "</style>\n",
              "<table border=\"1\" class=\"dataframe\">\n",
              "  <thead>\n",
              "    <tr style=\"text-align: right;\">\n",
              "      <th></th>\n",
              "      <th>German</th>\n",
              "      <th>Expected</th>\n",
              "      <th>predicted</th>\n",
              "    </tr>\n",
              "  </thead>\n",
              "  <tbody>\n",
              "    <tr>\n",
              "      <th>90478</th>\n",
              "      <td>wozu brauchtest du eine kettensäge</td>\n",
              "      <td>why did you need a chainsaw</td>\n",
              "      <td>why did you need a chainsaw</td>\n",
              "    </tr>\n",
              "    <tr>\n",
              "      <th>90482</th>\n",
              "      <td>wozu habt ihr eine kettensäge gebraucht</td>\n",
              "      <td>why did you need a chainsaw</td>\n",
              "      <td>why did you need a chainsaw</td>\n",
              "    </tr>\n",
              "    <tr>\n",
              "      <th>90484</th>\n",
              "      <td>warum hast du das zu tom gesagt</td>\n",
              "      <td>why did you say that to tom</td>\n",
              "      <td>why did you tell tom to</td>\n",
              "    </tr>\n",
              "    <tr>\n",
              "      <th>90507</th>\n",
              "      <td>warum hast du mir das nicht gesagt</td>\n",
              "      <td>why didnt you tell me that</td>\n",
              "      <td>why didnt you tell me</td>\n",
              "    </tr>\n",
              "    <tr>\n",
              "      <th>90514</th>\n",
              "      <td>warum tun die menschen böses</td>\n",
              "      <td>why do people do bad things</td>\n",
              "      <td>why are people</td>\n",
              "    </tr>\n",
              "  </tbody>\n",
              "</table>\n",
              "</div>"
            ],
            "text/plain": [
              "                                        German  ...                         predicted\n",
              "90478       wozu brauchtest du eine kettensäge  ...  why did you need a chainsaw     \n",
              "90482  wozu habt ihr eine kettensäge gebraucht  ...  why did you need a chainsaw     \n",
              "90484          warum hast du das zu tom gesagt  ...      why did you tell tom to     \n",
              "90507       warum hast du mir das nicht gesagt  ...       why didnt you tell me      \n",
              "90514             warum tun die menschen böses  ...            why are people        \n",
              "\n",
              "[5 rows x 3 columns]"
            ]
          },
          "metadata": {
            "tags": []
          },
          "execution_count": 197
        }
      ]
    },
    {
      "cell_type": "code",
      "metadata": {
        "colab_type": "code",
        "id": "-Wd58G8bAPf1",
        "colab": {}
      },
      "source": [
        "def evaluate_model(actual_data,predicted_data):\n",
        "    print('BLEU Score:',corpus_bleu(actual_data, prediction_text))"
      ],
      "execution_count": 0,
      "outputs": []
    },
    {
      "cell_type": "code",
      "metadata": {
        "colab_type": "code",
        "id": "5sgmpD2MAPf4",
        "colab": {
          "base_uri": "https://localhost:8080/",
          "height": 34
        },
        "outputId": "8c131cc6-1908-45f9-ad0d-4f08bd6c4d77"
      },
      "source": [
        "evaluate_model(test_data_np[:,0],prediction_text)"
      ],
      "execution_count": 203,
      "outputs": [
        {
          "output_type": "stream",
          "text": [
            "BLEU Score: 0.7977105212768360\n"
          ],
          "name": "stdout"
        }
      ]
    }
  ]
}